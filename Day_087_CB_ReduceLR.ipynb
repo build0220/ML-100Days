{
 "cells": [
  {
   "cell_type": "markdown",
   "metadata": {},
   "source": [
    "## Work\n",
    "1. 請改變 reduce_lr 的 patience 和 factor 並比較不同設定下，對訓練/驗證集的影響\n",
    "2. 請將 optimizer 換成 Adam、RMSprop 搭配 reduce_lr 並比較訓練結果"
   ]
  },
  {
   "cell_type": "code",
   "execution_count": 1,
   "metadata": {},
   "outputs": [
    {
     "name": "stderr",
     "output_type": "stream",
     "text": [
      "C:\\Users\\JL\\Anaconda3\\lib\\site-packages\\h5py\\__init__.py:36: FutureWarning: Conversion of the second argument of issubdtype from `float` to `np.floating` is deprecated. In future, it will be treated as `np.float64 == np.dtype(float).type`.\n",
      "  from ._conv import register_converters as _register_converters\n",
      "Using TensorFlow backend.\n"
     ]
    }
   ],
   "source": [
    "import os\n",
    "import keras\n",
    "import itertools\n",
    "# Disable GPU\n",
    "os.environ[\"CUDA_VISIBLE_DEVICES\"] = \"\""
   ]
  },
  {
   "cell_type": "code",
   "execution_count": 2,
   "metadata": {},
   "outputs": [],
   "source": [
    "train, test = keras.datasets.cifar10.load_data()"
   ]
  },
  {
   "cell_type": "code",
   "execution_count": 3,
   "metadata": {},
   "outputs": [],
   "source": [
    "## 資料前處理\n",
    "def preproc_x(x, flatten=True):\n",
    "    x = x / 255.\n",
    "    if flatten:\n",
    "        x = x.reshape((len(x), -1))\n",
    "    return x\n",
    "\n",
    "def preproc_y(y, num_classes=10):\n",
    "    if y.shape[-1] == 1:\n",
    "        y = keras.utils.to_categorical(y, num_classes)\n",
    "    return y    "
   ]
  },
  {
   "cell_type": "code",
   "execution_count": 4,
   "metadata": {},
   "outputs": [],
   "source": [
    "x_train, y_train = train\n",
    "x_test, y_test = test\n",
    "\n",
    "# Preproc the inputs\n",
    "x_train = preproc_x(x_train)\n",
    "x_test = preproc_x(x_test)\n",
    "\n",
    "# Preprc the outputs\n",
    "y_train = preproc_y(y_train)\n",
    "y_test = preproc_y(y_test)"
   ]
  },
  {
   "cell_type": "code",
   "execution_count": 5,
   "metadata": {},
   "outputs": [],
   "source": [
    "from keras.layers import BatchNormalization\n",
    "def build_mlp(input_shape, output_units=10, num_neurons=[512, 256, 128]):\n",
    "    input_layer = keras.layers.Input(input_shape)\n",
    "    \n",
    "    for i, n_units in enumerate(num_neurons):\n",
    "        if i == 0:\n",
    "            x = keras.layers.Dense(units=n_units, \n",
    "                                   activation=\"relu\", \n",
    "                                   name=\"hidden_layer\"+str(i+1))(input_layer)\n",
    "            x = BatchNormalization()(x)\n",
    "        else:\n",
    "            x = keras.layers.Dense(units=n_units, \n",
    "                                   activation=\"relu\", \n",
    "                                   name=\"hidden_layer\"+str(i+1))(x)\n",
    "            x = BatchNormalization()(x)\n",
    "    \n",
    "    out = keras.layers.Dense(units=output_units, activation=\"softmax\", name=\"output\")(x)\n",
    "    \n",
    "    model = keras.models.Model(inputs=[input_layer], outputs=[out])\n",
    "    return model"
   ]
  },
  {
   "cell_type": "code",
   "execution_count": 6,
   "metadata": {},
   "outputs": [],
   "source": [
    "## 超參數設定\n",
    "\"\"\"\n",
    "Set your hyper-parameters\n",
    "\"\"\"\n",
    "## 超參數設定\n",
    "LEARNING_RATE = 1e-3\n",
    "EPOCHS = 10\n",
    "BATCH_SIZE = 2048\n",
    "MOMENTUM = 0.95"
   ]
  },
  {
   "cell_type": "code",
   "execution_count": 8,
   "metadata": {},
   "outputs": [],
   "source": [
    "# 載入 Callbacks\n",
    "from keras.callbacks import ReduceLROnPlateau\n",
    "\"\"\"\n",
    "Set model checkpoint callbacks\n",
    "Write your training loop and show the results\n",
    "\"\"\"\n",
    "reduce_lr = ReduceLROnPlateau(factor=0.8, \n",
    "                              min_lr=1e-12, \n",
    "                              monitor='val_loss', \n",
    "                              patience=2, \n",
    "                              verbose=1)"
   ]
  },
  {
   "cell_type": "code",
   "execution_count": 9,
   "metadata": {},
   "outputs": [
    {
     "name": "stdout",
     "output_type": "stream",
     "text": [
      "_________________________________________________________________\n",
      "Layer (type)                 Output Shape              Param #   \n",
      "=================================================================\n",
      "input_1 (InputLayer)         (None, 3072)              0         \n",
      "_________________________________________________________________\n",
      "hidden_layer1 (Dense)        (None, 512)               1573376   \n",
      "_________________________________________________________________\n",
      "batch_normalization_1 (Batch (None, 512)               2048      \n",
      "_________________________________________________________________\n",
      "hidden_layer2 (Dense)        (None, 256)               131328    \n",
      "_________________________________________________________________\n",
      "batch_normalization_2 (Batch (None, 256)               1024      \n",
      "_________________________________________________________________\n",
      "hidden_layer3 (Dense)        (None, 128)               32896     \n",
      "_________________________________________________________________\n",
      "batch_normalization_3 (Batch (None, 128)               512       \n",
      "_________________________________________________________________\n",
      "output (Dense)               (None, 10)                1290      \n",
      "=================================================================\n",
      "Total params: 1,742,474\n",
      "Trainable params: 1,740,682\n",
      "Non-trainable params: 1,792\n",
      "_________________________________________________________________\n",
      "Train on 50000 samples, validate on 10000 samples\n",
      "Epoch 1/50\n",
      "50000/50000 [==============================] - 37s 738us/step - loss: 1.8520 - acc: 0.3645 - val_loss: 1.9078 - val_acc: 0.3706\n",
      "Epoch 2/50\n",
      "50000/50000 [==============================] - 27s 537us/step - loss: 1.5265 - acc: 0.4638 - val_loss: 1.6829 - val_acc: 0.4187\n",
      "Epoch 3/50\n",
      "50000/50000 [==============================] - 25s 506us/step - loss: 1.4261 - acc: 0.4981 - val_loss: 1.8451 - val_acc: 0.3536\n",
      "Epoch 4/50\n",
      "50000/50000 [==============================] - 23s 461us/step - loss: 1.3486 - acc: 0.5265 - val_loss: 1.8235 - val_acc: 0.3771\n",
      "\n",
      "Epoch 00004: ReduceLROnPlateau reducing learning rate to 0.000800000037997961.\n",
      "Epoch 5/50\n",
      "50000/50000 [==============================] - 22s 448us/step - loss: 1.2745 - acc: 0.5517 - val_loss: 1.5885 - val_acc: 0.4477\n",
      "Epoch 6/50\n",
      "50000/50000 [==============================] - 23s 454us/step - loss: 1.2174 - acc: 0.5713 - val_loss: 1.6497 - val_acc: 0.3969\n",
      "Epoch 7/50\n",
      "50000/50000 [==============================] - 22s 439us/step - loss: 1.1767 - acc: 0.5866 - val_loss: 1.7480 - val_acc: 0.3921\n",
      "\n",
      "Epoch 00007: ReduceLROnPlateau reducing learning rate to 0.0006400000303983689.\n",
      "Epoch 8/50\n",
      "50000/50000 [==============================] - 23s 457us/step - loss: 1.1142 - acc: 0.6088 - val_loss: 1.6111 - val_acc: 0.4280\n",
      "Epoch 9/50\n",
      "50000/50000 [==============================] - 24s 474us/step - loss: 1.0731 - acc: 0.6258 - val_loss: 1.6789 - val_acc: 0.4110\n",
      "\n",
      "Epoch 00009: ReduceLROnPlateau reducing learning rate to 0.0005120000336319208.\n",
      "Epoch 10/50\n",
      "50000/50000 [==============================] - 21s 428us/step - loss: 1.0190 - acc: 0.6461 - val_loss: 1.7143 - val_acc: 0.4268\n",
      "Epoch 11/50\n",
      "50000/50000 [==============================] - 26s 524us/step - loss: 0.9774 - acc: 0.6628 - val_loss: 1.5752 - val_acc: 0.4387\n",
      "Epoch 12/50\n",
      "50000/50000 [==============================] - 31s 612us/step - loss: 0.9473 - acc: 0.6731 - val_loss: 1.5287 - val_acc: 0.4583\n",
      "Epoch 13/50\n",
      "50000/50000 [==============================] - 25s 501us/step - loss: 0.9053 - acc: 0.6918 - val_loss: 1.5290 - val_acc: 0.4621\n",
      "Epoch 14/50\n",
      "50000/50000 [==============================] - 22s 444us/step - loss: 0.8763 - acc: 0.6999 - val_loss: 1.5593 - val_acc: 0.4608\n",
      "\n",
      "Epoch 00014: ReduceLROnPlateau reducing learning rate to 0.00040960004553198815.\n",
      "Epoch 15/50\n",
      "50000/50000 [==============================] - 22s 440us/step - loss: 0.8297 - acc: 0.7217 - val_loss: 1.5959 - val_acc: 0.4468\n",
      "Epoch 16/50\n",
      "50000/50000 [==============================] - 22s 448us/step - loss: 0.7939 - acc: 0.7320 - val_loss: 1.6855 - val_acc: 0.4399\n",
      "\n",
      "Epoch 00016: ReduceLROnPlateau reducing learning rate to 0.00032768002711236477.\n",
      "Epoch 17/50\n",
      "50000/50000 [==============================] - 27s 533us/step - loss: 0.7486 - acc: 0.7516 - val_loss: 1.5263 - val_acc: 0.4742\n",
      "Epoch 18/50\n",
      "50000/50000 [==============================] - 24s 489us/step - loss: 0.7140 - acc: 0.7666 - val_loss: 1.5470 - val_acc: 0.4784\n",
      "Epoch 19/50\n",
      "50000/50000 [==============================] - 27s 544us/step - loss: 0.6915 - acc: 0.7742 - val_loss: 1.5712 - val_acc: 0.4716\n",
      "\n",
      "Epoch 00019: ReduceLROnPlateau reducing learning rate to 0.0002621440216898918.\n",
      "Epoch 20/50\n",
      "50000/50000 [==============================] - 28s 559us/step - loss: 0.6587 - acc: 0.7902 - val_loss: 1.6242 - val_acc: 0.4629\n",
      "Epoch 21/50\n",
      "50000/50000 [==============================] - 25s 495us/step - loss: 0.6267 - acc: 0.8024 - val_loss: 1.5168 - val_acc: 0.4983\n",
      "Epoch 22/50\n",
      "50000/50000 [==============================] - 22s 433us/step - loss: 0.6040 - acc: 0.8129 - val_loss: 1.6347 - val_acc: 0.4751\n",
      "Epoch 23/50\n",
      "50000/50000 [==============================] - 22s 440us/step - loss: 0.5838 - acc: 0.8182 - val_loss: 1.6259 - val_acc: 0.4679\n",
      "\n",
      "Epoch 00023: ReduceLROnPlateau reducing learning rate to 0.00020971521735191345.\n",
      "Epoch 24/50\n",
      "50000/50000 [==============================] - 23s 460us/step - loss: 0.5488 - acc: 0.8339 - val_loss: 1.5031 - val_acc: 0.5059\n",
      "Epoch 25/50\n",
      "50000/50000 [==============================] - 25s 502us/step - loss: 0.5293 - acc: 0.8431 - val_loss: 1.5774 - val_acc: 0.4931\n",
      "Epoch 26/50\n",
      "50000/50000 [==============================] - 23s 456us/step - loss: 0.5090 - acc: 0.8515 - val_loss: 1.5365 - val_acc: 0.5059\n",
      "\n",
      "Epoch 00026: ReduceLROnPlateau reducing learning rate to 0.00016777217388153076.\n",
      "Epoch 27/50\n",
      "50000/50000 [==============================] - 24s 489us/step - loss: 0.4829 - acc: 0.8630 - val_loss: 1.5436 - val_acc: 0.5027\n",
      "Epoch 28/50\n",
      "50000/50000 [==============================] - 22s 439us/step - loss: 0.4652 - acc: 0.8713 - val_loss: 1.5615 - val_acc: 0.5002\n",
      "\n",
      "Epoch 00028: ReduceLROnPlateau reducing learning rate to 0.00013421773910522462.\n",
      "Epoch 29/50\n",
      "50000/50000 [==============================] - 22s 437us/step - loss: 0.4452 - acc: 0.8770 - val_loss: 1.5529 - val_acc: 0.5081\n",
      "Epoch 30/50\n",
      "50000/50000 [==============================] - 22s 444us/step - loss: 0.4294 - acc: 0.8853 - val_loss: 1.5777 - val_acc: 0.4970\n",
      "\n",
      "Epoch 00030: ReduceLROnPlateau reducing learning rate to 0.00010737419361248613.\n",
      "Epoch 31/50\n",
      "50000/50000 [==============================] - 20s 405us/step - loss: 0.4119 - acc: 0.8924 - val_loss: 1.6036 - val_acc: 0.5014\n",
      "Epoch 32/50\n",
      "50000/50000 [==============================] - 20s 396us/step - loss: 0.3998 - acc: 0.8978 - val_loss: 1.5963 - val_acc: 0.5067\n",
      "\n",
      "Epoch 00032: ReduceLROnPlateau reducing learning rate to 8.589935605414213e-05.\n",
      "Epoch 33/50\n",
      "50000/50000 [==============================] - 21s 414us/step - loss: 0.3866 - acc: 0.9047 - val_loss: 1.6068 - val_acc: 0.5067\n",
      "Epoch 34/50\n",
      "50000/50000 [==============================] - 22s 438us/step - loss: 0.3793 - acc: 0.9076 - val_loss: 1.6031 - val_acc: 0.5053\n",
      "\n",
      "Epoch 00034: ReduceLROnPlateau reducing learning rate to 6.871948717162013e-05.\n",
      "Epoch 35/50\n",
      "50000/50000 [==============================] - 19s 390us/step - loss: 0.3673 - acc: 0.9110 - val_loss: 1.6101 - val_acc: 0.5107\n",
      "Epoch 36/50\n",
      "50000/50000 [==============================] - 19s 388us/step - loss: 0.3621 - acc: 0.9140 - val_loss: 1.5979 - val_acc: 0.5137\n",
      "\n",
      "Epoch 00036: ReduceLROnPlateau reducing learning rate to 5.497558740898967e-05.\n",
      "Epoch 37/50\n",
      "50000/50000 [==============================] - 20s 406us/step - loss: 0.3524 - acc: 0.9189 - val_loss: 1.6084 - val_acc: 0.5171\n",
      "Epoch 38/50\n",
      "50000/50000 [==============================] - 22s 433us/step - loss: 0.3462 - acc: 0.9203 - val_loss: 1.6102 - val_acc: 0.5106\n",
      "\n",
      "Epoch 00038: ReduceLROnPlateau reducing learning rate to 4.398046876303852e-05.\n",
      "Epoch 39/50\n",
      "50000/50000 [==============================] - 21s 418us/step - loss: 0.3386 - acc: 0.9243 - val_loss: 1.6135 - val_acc: 0.5121\n",
      "Epoch 40/50\n",
      "50000/50000 [==============================] - 21s 426us/step - loss: 0.3350 - acc: 0.9260 - val_loss: 1.6090 - val_acc: 0.5155\n",
      "\n",
      "Epoch 00040: ReduceLROnPlateau reducing learning rate to 3.518437442835421e-05.\n",
      "Epoch 41/50\n"
     ]
    },
    {
     "name": "stdout",
     "output_type": "stream",
     "text": [
      "50000/50000 [==============================] - 21s 423us/step - loss: 0.3288 - acc: 0.9284 - val_loss: 1.6178 - val_acc: 0.5148\n",
      "Epoch 42/50\n",
      "50000/50000 [==============================] - 20s 405us/step - loss: 0.3255 - acc: 0.9294 - val_loss: 1.6271 - val_acc: 0.5176\n",
      "\n",
      "Epoch 00042: ReduceLROnPlateau reducing learning rate to 2.8147498960606756e-05.\n",
      "Epoch 43/50\n",
      "50000/50000 [==============================] - 20s 394us/step - loss: 0.3220 - acc: 0.9303 - val_loss: 1.6308 - val_acc: 0.5188\n",
      "Epoch 44/50\n",
      "50000/50000 [==============================] - 24s 478us/step - loss: 0.3184 - acc: 0.9326 - val_loss: 1.6396 - val_acc: 0.5161\n",
      "\n",
      "Epoch 00044: ReduceLROnPlateau reducing learning rate to 2.25179988774471e-05.\n",
      "Epoch 45/50\n",
      "50000/50000 [==============================] - 20s 402us/step - loss: 0.3149 - acc: 0.9341 - val_loss: 1.6375 - val_acc: 0.5145\n",
      "Epoch 46/50\n",
      "50000/50000 [==============================] - 25s 505us/step - loss: 0.3130 - acc: 0.9348 - val_loss: 1.6339 - val_acc: 0.5144\n",
      "\n",
      "Epoch 00046: ReduceLROnPlateau reducing learning rate to 1.8014399392995985e-05.\n",
      "Epoch 47/50\n",
      "50000/50000 [==============================] - 21s 412us/step - loss: 0.3110 - acc: 0.9352 - val_loss: 1.6431 - val_acc: 0.5136\n",
      "Epoch 48/50\n",
      "50000/50000 [==============================] - 22s 444us/step - loss: 0.3091 - acc: 0.9365 - val_loss: 1.6492 - val_acc: 0.5180\n",
      "\n",
      "Epoch 00048: ReduceLROnPlateau reducing learning rate to 1.4411519805435093e-05.\n",
      "Epoch 49/50\n",
      "50000/50000 [==============================] - 25s 494us/step - loss: 0.3064 - acc: 0.9378 - val_loss: 1.6466 - val_acc: 0.5148\n",
      "Epoch 50/50\n",
      "50000/50000 [==============================] - 25s 502us/step - loss: 0.3051 - acc: 0.9374 - val_loss: 1.6478 - val_acc: 0.5141\n",
      "\n",
      "Epoch 00050: ReduceLROnPlateau reducing learning rate to 1.1529216135386379e-05.\n"
     ]
    }
   ],
   "source": [
    "model = build_mlp(input_shape=x_train.shape[1:])\n",
    "model.summary()\n",
    "optimizer = keras.optimizers.Adam(lr=LEARNING_RATE)\n",
    "model.compile(loss=\"categorical_crossentropy\", metrics=[\"accuracy\"], optimizer=optimizer)\n",
    "\n",
    "model.fit(x_train, y_train, \n",
    "          epochs=EPOCHS, \n",
    "          batch_size=BATCH_SIZE, \n",
    "          validation_data=(x_test, y_test), \n",
    "          shuffle=True,\n",
    "          callbacks=[reduce_lr]\n",
    "         )\n",
    "\n",
    "# Collect results\n",
    "train_loss = model.history.history[\"loss\"]\n",
    "valid_loss = model.history.history[\"val_loss\"]\n",
    "train_acc = model.history.history[\"acc\"]\n",
    "valid_acc = model.history.history[\"val_acc\"]"
   ]
  },
  {
   "cell_type": "code",
   "execution_count": 10,
   "metadata": {
    "scrolled": true
   },
   "outputs": [
    {
     "data": {
      "image/png": "[encoded data removed]",
      "text/plain": [
       "<Figure size 432x288 with 1 Axes>"
      ]
     },
     "metadata": {},
     "output_type": "display_data"
    },
    {
     "data": {
      "image/png": "[encoded data removed]",
      "text/plain": [
       "<Figure size 432x288 with 1 Axes>"
      ]
     },
     "metadata": {},
     "output_type": "display_data"
    }
   ],
   "source": [
    "# 繪製結果\n",
    "\"\"\"\n",
    "plot the results\n",
    "\"\"\"\n",
    "import matplotlib.pyplot as plt\n",
    "%matplotlib inline\n",
    "\n",
    "\"\"\"\n",
    "將實驗結果繪出\n",
    "\"\"\"\n",
    "\n",
    "plt.plot(range(len(train_loss)), train_loss, label=\"train loss\")\n",
    "plt.plot(range(len(valid_loss)), valid_loss, label=\"valid loss\")\n",
    "plt.legend()\n",
    "plt.title(\"Loss\")\n",
    "plt.show()\n",
    "\n",
    "plt.plot(range(len(train_acc)), train_acc, label=\"train accuracy\")\n",
    "plt.plot(range(len(valid_acc)), valid_acc, label=\"valid accuracy\")\n",
    "plt.legend()\n",
    "plt.title(\"Accuracy\")\n",
    "plt.show()"
   ]
  },
  {
   "cell_type": "code",
   "execution_count": null,
   "metadata": {
    "collapsed": true
   },
   "outputs": [],
   "source": []
  }
 ],
 "metadata": {
  "anaconda-cloud": {},
  "kernelspec": {
   "display_name": "Python 3",
   "language": "python",
   "name": "python3"
  },
  "language_info": {
   "codemirror_mode": {
    "name": "ipython",
    "version": 3
   },
   "file_extension": ".py",
   "mimetype": "text/x-python",
   "name": "python",
   "nbconvert_exporter": "python",
   "pygments_lexer": "ipython3",
   "version": "3.6.5"
  }
 },
 "nbformat": 4,
 "nbformat_minor": 2
}
