{
 "cells": [
  {
   "cell_type": "markdown",
   "metadata": {},
   "source": [
    "# 作業:\n",
    "嘗試調整參數:  \n",
    "sg:sg=1表示採用skip-gram,sg=0 表示採用cbow  \n",
    "window:能往左往右看幾個字的意思 "
   ]
  },
  {
   "cell_type": "code",
   "execution_count": 20,
   "metadata": {},
   "outputs": [],
   "source": [
    "import gensim, logging\n",
    "from gensim.models import word2vec"
   ]
  },
  {
   "cell_type": "code",
   "execution_count": 24,
   "metadata": {},
   "outputs": [
    {
     "name": "stderr",
     "output_type": "stream",
     "text": [
      "2019-03-08 14:06:07,046 : INFO : collecting all words and their counts\n",
      "2019-03-08 14:06:07,048 : INFO : PROGRESS: at sentence #0, processed 0 words, keeping 0 word types\n",
      "2019-03-08 14:06:07,049 : INFO : collected 3 word types from a corpus of 4 raw words and 2 sentences\n",
      "2019-03-08 14:06:07,050 : INFO : Loading a fresh vocabulary\n",
      "2019-03-08 14:06:07,051 : INFO : min_count=1 retains 3 unique words (100% of original 3, drops 0)\n",
      "2019-03-08 14:06:07,054 : INFO : min_count=1 leaves 4 word corpus (100% of original 4, drops 0)\n",
      "2019-03-08 14:06:07,056 : INFO : deleting the raw counts dictionary of 3 items\n",
      "2019-03-08 14:06:07,057 : INFO : sample=0.001 downsamples 3 most-common words\n",
      "2019-03-08 14:06:07,058 : INFO : downsampling leaves estimated 0 word corpus (5.7% of prior 4)\n",
      "2019-03-08 14:06:07,059 : INFO : estimated required memory for 3 words and 256 dimensions: 7644 bytes\n",
      "2019-03-08 14:06:07,060 : INFO : resetting layer weights\n",
      "2019-03-08 14:06:07,062 : INFO : training model with 4 workers on 3 vocabulary and 256 features, using sg=0 hs=0 sample=0.001 negative=5 window=3\n",
      "2019-03-08 14:06:07,070 : INFO : worker thread finished; awaiting finish of 3 more threads\n",
      "2019-03-08 14:06:07,071 : INFO : worker thread finished; awaiting finish of 2 more threads\n",
      "2019-03-08 14:06:07,073 : INFO : worker thread finished; awaiting finish of 1 more threads\n",
      "2019-03-08 14:06:07,074 : INFO : worker thread finished; awaiting finish of 0 more threads\n",
      "2019-03-08 14:06:07,075 : INFO : EPOCH - 1 : training on 4 raw words (0 effective words) took 0.0s, 0 effective words/s\n",
      "2019-03-08 14:06:07,085 : INFO : worker thread finished; awaiting finish of 3 more threads\n",
      "2019-03-08 14:06:07,086 : INFO : worker thread finished; awaiting finish of 2 more threads\n",
      "2019-03-08 14:06:07,087 : INFO : worker thread finished; awaiting finish of 1 more threads\n",
      "2019-03-08 14:06:07,088 : INFO : worker thread finished; awaiting finish of 0 more threads\n",
      "2019-03-08 14:06:07,089 : INFO : EPOCH - 2 : training on 4 raw words (0 effective words) took 0.0s, 0 effective words/s\n",
      "2019-03-08 14:06:07,121 : INFO : worker thread finished; awaiting finish of 3 more threads\n",
      "2019-03-08 14:06:07,123 : INFO : worker thread finished; awaiting finish of 2 more threads\n",
      "2019-03-08 14:06:07,124 : INFO : worker thread finished; awaiting finish of 1 more threads\n",
      "2019-03-08 14:06:07,127 : INFO : worker thread finished; awaiting finish of 0 more threads\n",
      "2019-03-08 14:06:07,130 : INFO : EPOCH - 3 : training on 4 raw words (1 effective words) took 0.0s, 100 effective words/s\n",
      "2019-03-08 14:06:07,145 : INFO : worker thread finished; awaiting finish of 3 more threads\n",
      "2019-03-08 14:06:07,146 : INFO : worker thread finished; awaiting finish of 2 more threads\n",
      "2019-03-08 14:06:07,149 : INFO : worker thread finished; awaiting finish of 1 more threads\n",
      "2019-03-08 14:06:07,151 : INFO : worker thread finished; awaiting finish of 0 more threads\n",
      "2019-03-08 14:06:07,152 : INFO : EPOCH - 4 : training on 4 raw words (1 effective words) took 0.0s, 113 effective words/s\n",
      "2019-03-08 14:06:07,162 : INFO : worker thread finished; awaiting finish of 3 more threads\n",
      "2019-03-08 14:06:07,163 : INFO : worker thread finished; awaiting finish of 2 more threads\n",
      "2019-03-08 14:06:07,165 : INFO : worker thread finished; awaiting finish of 1 more threads\n",
      "2019-03-08 14:06:07,166 : INFO : worker thread finished; awaiting finish of 0 more threads\n",
      "2019-03-08 14:06:07,167 : INFO : EPOCH - 5 : training on 4 raw words (0 effective words) took 0.0s, 0 effective words/s\n",
      "2019-03-08 14:06:07,168 : INFO : training on a 20 raw words (2 effective words) took 0.1s, 19 effective words/s\n",
      "2019-03-08 14:06:07,169 : WARNING : under 10 jobs per worker: consider setting a smaller `batch_words' for smoother alpha decay\n"
     ]
    }
   ],
   "source": [
    "# sg=0 表示COBW, sg=1 表示skip-gram  \n",
    "logging.basicConfig(format='%(asctime)s : %(levelname)s : %(message)s', level=logging.INFO)  \n",
    "sentences = [['I am a hero', 'sentence'], ['She is a teacher', 'sentence']] \n",
    "# train word2vec on the two sentences  \n",
    "model = word2vec.Word2Vec(sentences, size=256, min_count=1, window=3, workers=4, sg=0)  \n",
    "\n",
    "# sg=0 表示COBW, sg=1 表示skip-gram"
   ]
  },
  {
   "cell_type": "code",
   "execution_count": 25,
   "metadata": {},
   "outputs": [
    {
     "name": "stdout",
     "output_type": "stream",
     "text": [
      "Word2Vec(vocab=3, size=256, alpha=0.025)\n"
     ]
    }
   ],
   "source": [
    "print(model)"
   ]
  },
  {
   "cell_type": "code",
   "execution_count": 26,
   "metadata": {},
   "outputs": [
    {
     "name": "stderr",
     "output_type": "stream",
     "text": [
      "C:\\Users\\JL\\Anaconda3\\lib\\site-packages\\ipykernel_launcher.py:1: DeprecationWarning: Call to deprecated `similarity` (Method will be removed in 4.0.0, use self.wv.similarity() instead).\n",
      "  \"\"\"Entry point for launching an IPython kernel.\n"
     ]
    },
    {
     "data": {
      "text/plain": [
       "-0.017297042298056294"
      ]
     },
     "execution_count": 26,
     "metadata": {},
     "output_type": "execute_result"
    }
   ],
   "source": [
    "model.similarity('I am a hero','She is a teacher')"
   ]
  },
  {
   "cell_type": "code",
   "execution_count": null,
   "metadata": {},
   "outputs": [],
   "source": []
  },
  {
   "cell_type": "code",
   "execution_count": null,
   "metadata": {},
   "outputs": [],
   "source": []
  }
 ],
 "metadata": {
  "kernelspec": {
   "display_name": "Python 3",
   "language": "python",
   "name": "python3"
  },
  "language_info": {
   "codemirror_mode": {
    "name": "ipython",
    "version": 3
   },
   "file_extension": ".py",
   "mimetype": "text/x-python",
   "name": "python",
   "nbconvert_exporter": "python",
   "pygments_lexer": "ipython3",
   "version": "3.6.5"
  }
 },
 "nbformat": 4,
 "nbformat_minor": 2
}
