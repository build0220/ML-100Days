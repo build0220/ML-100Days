{
 "cells": [
  {
   "cell_type": "code",
   "execution_count": 19,
   "metadata": {},
   "outputs": [],
   "source": [
    "import numpy as np\n",
    "import random\n",
    "#Input array\n",
    "\n",
    "X = np.array([[1, 0, 1, 0], [1 ,0 ,1 ,1 ],[ 0 , 1 , 0 , 1 ]])\n",
    "\n",
    "#Output\n",
    "y = np.array([[1], [1], [0]])"
   ]
  },
  {
   "cell_type": "code",
   "execution_count": 2,
   "metadata": {},
   "outputs": [],
   "source": [
    "#Sigmoid Function\n",
    "def sigmoid(x): \n",
    "    return  1/(1+np.exp(-x))\n",
    "\n",
    "#Derivative of Sigmoid Function\n",
    "def derivatives_sigmoid(x): \n",
    "    return x*(1-x)"
   ]
  },
  {
   "cell_type": "code",
   "execution_count": 13,
   "metadata": {},
   "outputs": [
    {
     "name": "stdout",
     "output_type": "stream",
     "text": [
      "inputlayer_neurons=4\n"
     ]
    }
   ],
   "source": [
    "#Variable initialization\n",
    "epoch = 5000 #Setting training iterations\n",
    "lr = 0.1 #Setting learning rate\n",
    "inputlayer_neurons = X.shape[1] #number of features in data set \n",
    "print(\"inputlayer_neurons=%s\"%(inputlayer_neurons))\n",
    "hiddenlayer_neurons = 3 #number of hidden layers neurons\n",
    "output_neurons = 1 #number of neurons at output layer"
   ]
  },
  {
   "cell_type": "code",
   "execution_count": 22,
   "metadata": {},
   "outputs": [],
   "source": [
    "#weight and bias initialization\n",
    "random.seed(1)\n",
    "wh = np.random.uniform( size = ( inputlayer_neurons , hiddenlayer_neurons ) ) \n",
    "bh = np.random.uniform( size = ( 1 , hiddenlayer_neurons ) ) \n",
    "wout = np.random.uniform( size = ( hiddenlayer_neurons , output_neurons ) ) \n",
    "bout = np.random.uniform( size = ( 1 , output_neurons ) )"
   ]
  },
  {
   "cell_type": "markdown",
   "metadata": {
    "collapsed": true
   },
   "source": [
    "# 作業 \n",
    "* 請參閱範例中的 hidden Layer 寫法, 完成 output Layer 的程式"
   ]
  },
  {
   "cell_type": "code",
   "execution_count": 23,
   "metadata": {},
   "outputs": [
    {
     "name": "stdout",
     "output_type": "stream",
     "text": [
      "[[1 0 1 0]\n",
      " [1 0 1 1]\n",
      " [0 1 0 1]]\n",
      "[[0.86883655 0.84391307 0.72222406]\n",
      " [0.94623636 0.90776674 0.84157083]\n",
      " [0.89186676 0.83757117 0.83212986]]\n"
     ]
    }
   ],
   "source": [
    "\n",
    "for i in  range ( epoch ) :\n",
    "    #Forward Propogation\n",
    "    hidden_layer_input1 = np.dot(X, wh) \n",
    "    hidden_layer_input = hidden_layer_input1 + bh\n",
    "    hiddenlayer_activations =  sigmoid( hidden_layer_input ) \n",
    "print(X)\n",
    "print(hiddenlayer_activations)"
   ]
  },
  {
   "cell_type": "code",
   "execution_count": 24,
   "metadata": {},
   "outputs": [
    {
     "name": "stdout",
     "output_type": "stream",
     "text": [
      "output of Forward Propogation:\n",
      "[[0.87473427]\n",
      " [0.88586933]\n",
      " [0.88012814]]\n",
      "wout,bout of Backpropagation:\n",
      "[[0.65964884]\n",
      " [0.23625193]\n",
      " [0.33180928]],\n",
      "[[0.93133911]]\n"
     ]
    }
   ],
   "source": [
    "for i in  range ( epoch ) :\n",
    "    '''\n",
    "    寫出output Layer\n",
    "    '''\n",
    "    hidden_layer_input1 = np.dot(hiddenlayer_activations, wout) \n",
    "    hidden_layer_input = hidden_layer_input1 + bout\n",
    "    output = sigmoid( hidden_layer_input ) \n",
    "    \n",
    "print ( \"output of Forward Propogation:\\n{}\" .format(output)) \n",
    "print ( \"wout,bout of Backpropagation:\\n{},\\n{}\" .format(wout, bout ))"
   ]
  },
  {
   "cell_type": "code",
   "execution_count": null,
   "metadata": {},
   "outputs": [],
   "source": []
  }
 ],
 "metadata": {
  "kernelspec": {
   "display_name": "Python 3",
   "language": "python",
   "name": "python3"
  },
  "language_info": {
   "codemirror_mode": {
    "name": "ipython",
    "version": 3
   },
   "file_extension": ".py",
   "mimetype": "text/x-python",
   "name": "python",
   "nbconvert_exporter": "python",
   "pygments_lexer": "ipython3",
   "version": "3.6.5"
  }
 },
 "nbformat": 4,
 "nbformat_minor": 2
}
