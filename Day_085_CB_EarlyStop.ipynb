{
 "cells": [
  {
   "cell_type": "markdown",
   "metadata": {},
   "source": [
    "## Work\n",
    "1. 試改變 monitor \"Validation Accuracy\" 並比較結果\n",
    "2. 調整 earlystop 的等待次數至 10, 25 並比較結果"
   ]
  },
  {
   "cell_type": "code",
   "execution_count": 1,
   "metadata": {},
   "outputs": [
    {
     "name": "stderr",
     "output_type": "stream",
     "text": [
      "C:\\Users\\JL\\Anaconda3\\lib\\site-packages\\h5py\\__init__.py:36: FutureWarning: Conversion of the second argument of issubdtype from `float` to `np.floating` is deprecated. In future, it will be treated as `np.float64 == np.dtype(float).type`.\n",
      "  from ._conv import register_converters as _register_converters\n",
      "Using TensorFlow backend.\n"
     ]
    }
   ],
   "source": [
    "import os\n",
    "import keras\n",
    "import matplotlib.pyplot as plt\n",
    "%matplotlib inline\n",
    "\n",
    "\n",
    "# Disable GPU\n",
    "os.environ[\"CUDA_VISIBLE_DEVICES\"] = \"\""
   ]
  },
  {
   "cell_type": "code",
   "execution_count": 2,
   "metadata": {},
   "outputs": [],
   "source": [
    "train, test = keras.datasets.cifar10.load_data()"
   ]
  },
  {
   "cell_type": "code",
   "execution_count": 3,
   "metadata": {},
   "outputs": [],
   "source": [
    "## 資料前處理\n",
    "def preproc_x(x, flatten=True):\n",
    "    x = x / 255.\n",
    "    if flatten:\n",
    "        x = x.reshape((len(x), -1))\n",
    "    return x\n",
    "\n",
    "def preproc_y(y, num_classes=10):\n",
    "    if y.shape[-1] == 1:\n",
    "        y = keras.utils.to_categorical(y, num_classes)\n",
    "    return y    "
   ]
  },
  {
   "cell_type": "code",
   "execution_count": 4,
   "metadata": {},
   "outputs": [],
   "source": [
    "x_train, y_train = train\n",
    "x_test, y_test = test\n",
    "\n",
    "# Preproc the inputs\n",
    "x_train = preproc_x(x_train)\n",
    "x_test = preproc_x(x_test)\n",
    "\n",
    "# Preprc the outputs\n",
    "y_train = preproc_y(y_train)\n",
    "y_test = preproc_y(y_test)"
   ]
  },
  {
   "cell_type": "code",
   "execution_count": 5,
   "metadata": {},
   "outputs": [],
   "source": [
    "from keras.layers import BatchNormalization\n",
    "def build_mlp(input_shape, output_units=10, num_neurons=[512, 256, 128]):\n",
    "    input_layer = keras.layers.Input(input_shape)\n",
    "    \n",
    "    for i, n_units in enumerate(num_neurons):\n",
    "        if i == 0:\n",
    "            x = keras.layers.Dense(units=n_units, \n",
    "                                   activation=\"relu\", \n",
    "                                   name=\"hidden_layer\"+str(i+1))(input_layer)\n",
    "            x = BatchNormalization()(x)\n",
    "        else:\n",
    "            x = keras.layers.Dense(units=n_units, \n",
    "                                   activation=\"relu\", \n",
    "                                   name=\"hidden_layer\"+str(i+1))(x)\n",
    "            x = BatchNormalization()(x)\n",
    "    \n",
    "    out = keras.layers.Dense(units=output_units, activation=\"softmax\", name=\"output\")(x)\n",
    "    \n",
    "    model = keras.models.Model(inputs=[input_layer], outputs=[out])\n",
    "    return model"
   ]
  },
  {
   "cell_type": "code",
   "execution_count": 20,
   "metadata": {},
   "outputs": [],
   "source": [
    "## 超參數設定\n",
    "\"\"\"\n",
    "Set your hyper-parameters\n",
    "\"\"\"\n",
    "LEARNING_RATE = 1e-3\n",
    "EPOCHS = 50\n",
    "BATCH_SIZE = 1024\n",
    "MOMENTUM = 0.95"
   ]
  },
  {
   "cell_type": "code",
   "execution_count": 21,
   "metadata": {},
   "outputs": [
    {
     "data": {
      "text/plain": [
       "'\\nYour Training loop and Plot the results\\n'"
      ]
     },
     "execution_count": 21,
     "metadata": {},
     "output_type": "execute_result"
    }
   ],
   "source": [
    "# 載入 Callbacks\n",
    "\"\"\"\n",
    "Earlystop setting\n",
    "\"\"\"\n",
    "from keras.callbacks import EarlyStopping\n",
    "\n",
    "earlystop = EarlyStopping(monitor=\"val_acc\", \n",
    "                          patience=10, \n",
    "                          verbose=1\n",
    "                          )\n",
    "\"\"\"\n",
    "Your Training loop and Plot the results\n",
    "\"\"\""
   ]
  },
  {
   "cell_type": "code",
   "execution_count": 22,
   "metadata": {},
   "outputs": [
    {
     "name": "stdout",
     "output_type": "stream",
     "text": [
      "_________________________________________________________________\n",
      "Layer (type)                 Output Shape              Param #   \n",
      "=================================================================\n",
      "input_7 (InputLayer)         (None, 3072)              0         \n",
      "_________________________________________________________________\n",
      "hidden_layer1 (Dense)        (None, 512)               1573376   \n",
      "_________________________________________________________________\n",
      "batch_normalization_19 (Batc (None, 512)               2048      \n",
      "_________________________________________________________________\n",
      "hidden_layer2 (Dense)        (None, 256)               131328    \n",
      "_________________________________________________________________\n",
      "batch_normalization_20 (Batc (None, 256)               1024      \n",
      "_________________________________________________________________\n",
      "hidden_layer3 (Dense)        (None, 128)               32896     \n",
      "_________________________________________________________________\n",
      "batch_normalization_21 (Batc (None, 128)               512       \n",
      "_________________________________________________________________\n",
      "output (Dense)               (None, 10)                1290      \n",
      "=================================================================\n",
      "Total params: 1,742,474\n",
      "Trainable params: 1,740,682\n",
      "Non-trainable params: 1,792\n",
      "_________________________________________________________________\n",
      "Train on 50000 samples, validate on 10000 samples\n",
      "Epoch 1/50\n",
      "50000/50000 [==============================] - 21s 412us/step - loss: 2.1877 - acc: 0.2737 - val_loss: 2.1874 - val_acc: 0.3108\n",
      "Epoch 2/50\n",
      "50000/50000 [==============================] - 18s 367us/step - loss: 1.7402 - acc: 0.3931 - val_loss: 1.7722 - val_acc: 0.3923\n",
      "Epoch 3/50\n",
      "50000/50000 [==============================] - 18s 363us/step - loss: 1.6174 - acc: 0.4355 - val_loss: 1.6953 - val_acc: 0.4018\n",
      "Epoch 4/50\n",
      "50000/50000 [==============================] - 18s 368us/step - loss: 1.5479 - acc: 0.4580 - val_loss: 1.6203 - val_acc: 0.4329\n",
      "Epoch 5/50\n",
      "50000/50000 [==============================] - 18s 364us/step - loss: 1.4941 - acc: 0.4793 - val_loss: 1.5989 - val_acc: 0.4375\n",
      "Epoch 6/50\n",
      "50000/50000 [==============================] - 18s 366us/step - loss: 1.4492 - acc: 0.4966 - val_loss: 1.5691 - val_acc: 0.4496\n",
      "Epoch 7/50\n",
      "50000/50000 [==============================] - 20s 394us/step - loss: 1.4111 - acc: 0.5087 - val_loss: 1.5482 - val_acc: 0.4575\n",
      "Epoch 8/50\n",
      "50000/50000 [==============================] - 21s 424us/step - loss: 1.3735 - acc: 0.5239 - val_loss: 1.5368 - val_acc: 0.4593\n",
      "Epoch 9/50\n",
      "50000/50000 [==============================] - 21s 425us/step - loss: 1.3429 - acc: 0.5337 - val_loss: 1.5298 - val_acc: 0.4590\n",
      "Epoch 10/50\n",
      "50000/50000 [==============================] - 21s 422us/step - loss: 1.3156 - acc: 0.5446 - val_loss: 1.5153 - val_acc: 0.4624\n",
      "Epoch 11/50\n",
      "50000/50000 [==============================] - 21s 425us/step - loss: 1.2859 - acc: 0.5562 - val_loss: 1.4970 - val_acc: 0.4749\n",
      "Epoch 12/50\n",
      "50000/50000 [==============================] - 21s 423us/step - loss: 1.2602 - acc: 0.5648 - val_loss: 1.4936 - val_acc: 0.4749\n",
      "Epoch 13/50\n",
      "50000/50000 [==============================] - 21s 424us/step - loss: 1.2332 - acc: 0.5719 - val_loss: 1.4863 - val_acc: 0.4755\n",
      "Epoch 14/50\n",
      "50000/50000 [==============================] - 21s 424us/step - loss: 1.2082 - acc: 0.5829 - val_loss: 1.4761 - val_acc: 0.4780\n",
      "Epoch 15/50\n",
      "50000/50000 [==============================] - 21s 428us/step - loss: 1.1851 - acc: 0.5912 - val_loss: 1.4704 - val_acc: 0.4864\n",
      "Epoch 16/50\n",
      "50000/50000 [==============================] - 21s 424us/step - loss: 1.1635 - acc: 0.6005 - val_loss: 1.4751 - val_acc: 0.4814\n",
      "Epoch 17/50\n",
      "50000/50000 [==============================] - 21s 425us/step - loss: 1.1397 - acc: 0.6081 - val_loss: 1.4626 - val_acc: 0.4871\n",
      "Epoch 18/50\n",
      "50000/50000 [==============================] - 22s 432us/step - loss: 1.1170 - acc: 0.6153 - val_loss: 1.4656 - val_acc: 0.4854\n",
      "Epoch 19/50\n",
      "50000/50000 [==============================] - 21s 425us/step - loss: 1.0960 - acc: 0.6258 - val_loss: 1.4684 - val_acc: 0.4861\n",
      "Epoch 20/50\n",
      "50000/50000 [==============================] - 21s 425us/step - loss: 1.0728 - acc: 0.6337 - val_loss: 1.4621 - val_acc: 0.4871\n",
      "Epoch 21/50\n",
      "50000/50000 [==============================] - 21s 424us/step - loss: 1.0545 - acc: 0.6412 - val_loss: 1.4649 - val_acc: 0.4865\n",
      "Epoch 22/50\n",
      "50000/50000 [==============================] - 21s 429us/step - loss: 1.0317 - acc: 0.6499 - val_loss: 1.4650 - val_acc: 0.4873\n",
      "Epoch 23/50\n",
      "50000/50000 [==============================] - 21s 429us/step - loss: 1.0104 - acc: 0.6606 - val_loss: 1.4635 - val_acc: 0.4949\n",
      "Epoch 24/50\n",
      "50000/50000 [==============================] - 21s 424us/step - loss: 0.9901 - acc: 0.6679 - val_loss: 1.4685 - val_acc: 0.4899\n",
      "Epoch 25/50\n",
      "50000/50000 [==============================] - 21s 425us/step - loss: 0.9696 - acc: 0.6748 - val_loss: 1.4618 - val_acc: 0.4952\n",
      "Epoch 26/50\n",
      "50000/50000 [==============================] - 21s 424us/step - loss: 0.9493 - acc: 0.6826 - val_loss: 1.4709 - val_acc: 0.4882\n",
      "Epoch 27/50\n",
      "50000/50000 [==============================] - 21s 425us/step - loss: 0.9304 - acc: 0.6892 - val_loss: 1.4748 - val_acc: 0.4935\n",
      "Epoch 28/50\n",
      "50000/50000 [==============================] - 21s 426us/step - loss: 0.9115 - acc: 0.6969 - val_loss: 1.4709 - val_acc: 0.4933\n",
      "Epoch 29/50\n",
      "50000/50000 [==============================] - 22s 434us/step - loss: 0.8902 - acc: 0.7052 - val_loss: 1.4839 - val_acc: 0.4918\n",
      "Epoch 30/50\n",
      "50000/50000 [==============================] - 21s 429us/step - loss: 0.8699 - acc: 0.7140 - val_loss: 1.5165 - val_acc: 0.4815\n",
      "Epoch 31/50\n",
      "50000/50000 [==============================] - 22s 442us/step - loss: 0.8524 - acc: 0.7192 - val_loss: 1.4799 - val_acc: 0.4912\n",
      "Epoch 32/50\n",
      "50000/50000 [==============================] - 21s 428us/step - loss: 0.8302 - acc: 0.7291 - val_loss: 1.4914 - val_acc: 0.4945\n",
      "Epoch 33/50\n",
      "50000/50000 [==============================] - 21s 427us/step - loss: 0.8105 - acc: 0.7364 - val_loss: 1.4982 - val_acc: 0.4953\n",
      "Epoch 34/50\n",
      "50000/50000 [==============================] - 22s 431us/step - loss: 0.7947 - acc: 0.7409 - val_loss: 1.5193 - val_acc: 0.4882\n",
      "Epoch 35/50\n",
      "50000/50000 [==============================] - 22s 430us/step - loss: 0.7737 - acc: 0.7505 - val_loss: 1.5318 - val_acc: 0.4849\n",
      "Epoch 36/50\n",
      "50000/50000 [==============================] - 22s 431us/step - loss: 0.7549 - acc: 0.7584 - val_loss: 1.5183 - val_acc: 0.4964\n",
      "Epoch 37/50\n",
      "50000/50000 [==============================] - 22s 431us/step - loss: 0.7367 - acc: 0.7647 - val_loss: 1.5418 - val_acc: 0.4892\n",
      "Epoch 38/50\n",
      "50000/50000 [==============================] - 21s 427us/step - loss: 0.7185 - acc: 0.7713 - val_loss: 1.5392 - val_acc: 0.4891\n",
      "Epoch 39/50\n",
      "50000/50000 [==============================] - 21s 426us/step - loss: 0.6980 - acc: 0.7804 - val_loss: 1.5559 - val_acc: 0.4856\n",
      "Epoch 40/50\n",
      "50000/50000 [==============================] - 21s 426us/step - loss: 0.6809 - acc: 0.7875 - val_loss: 1.5625 - val_acc: 0.4916\n",
      "Epoch 41/50\n",
      "50000/50000 [==============================] - 21s 427us/step - loss: 0.6635 - acc: 0.7926 - val_loss: 1.5614 - val_acc: 0.4862\n",
      "Epoch 42/50\n",
      "50000/50000 [==============================] - 21s 429us/step - loss: 0.6441 - acc: 0.8024 - val_loss: 1.5766 - val_acc: 0.4933\n",
      "Epoch 43/50\n",
      "50000/50000 [==============================] - 22s 435us/step - loss: 0.6263 - acc: 0.8102 - val_loss: 1.5829 - val_acc: 0.4923\n",
      "Epoch 44/50\n",
      "50000/50000 [==============================] - 22s 431us/step - loss: 0.6083 - acc: 0.8171 - val_loss: 1.6035 - val_acc: 0.4898\n",
      "Epoch 45/50\n",
      "50000/50000 [==============================] - 21s 426us/step - loss: 0.5910 - acc: 0.8226 - val_loss: 1.6164 - val_acc: 0.4791\n",
      "Epoch 46/50\n",
      "50000/50000 [==============================] - 21s 429us/step - loss: 0.5763 - acc: 0.8288 - val_loss: 1.6281 - val_acc: 0.4816\n",
      "Epoch 00046: early stopping\n"
     ]
    }
   ],
   "source": [
    "model = build_mlp(input_shape=x_train.shape[1:])\n",
    "model.summary()\n",
    "optimizer = keras.optimizers.SGD(lr=LEARNING_RATE, nesterov=True, momentum=MOMENTUM)\n",
    "model.compile(loss=\"categorical_crossentropy\", metrics=[\"accuracy\"], optimizer=optimizer)\n",
    "\n",
    "model.fit(x_train, y_train, \n",
    "          epochs=EPOCHS, \n",
    "          batch_size=BATCH_SIZE, \n",
    "          validation_data=(x_test, y_test), \n",
    "          shuffle=True,\n",
    "          callbacks=[earlystop]\n",
    "         )\n",
    "\n",
    "# Collect results\n",
    "train_loss = model.history.history[\"loss\"]\n",
    "valid_loss = model.history.history[\"val_loss\"]\n",
    "train_acc = model.history.history[\"acc\"]\n",
    "valid_acc = model.history.history[\"val_acc\"]"
   ]
  },
  {
   "cell_type": "code",
   "execution_count": 23,
   "metadata": {},
   "outputs": [
    {
     "data": {
      "image/png": "[encoded data removed]",
      "text/plain": [
       "<Figure size 432x288 with 1 Axes>"
      ]
     },
     "metadata": {},
     "output_type": "display_data"
    },
    {
     "data": {
      "image/png": "[encoded data removed]",
      "text/plain": [
       "<Figure size 432x288 with 1 Axes>"
      ]
     },
     "metadata": {},
     "output_type": "display_data"
    }
   ],
   "source": [
    "import matplotlib.pyplot as plt\n",
    "%matplotlib inline\n",
    "\n",
    "plt.plot(range(len(train_loss)), train_loss, label=\"train loss\")\n",
    "plt.plot(range(len(valid_loss)), valid_loss, label=\"valid loss\")\n",
    "plt.legend()\n",
    "plt.title(\"Loss\")\n",
    "plt.show()\n",
    "\n",
    "plt.plot(range(len(train_acc)), train_acc, label=\"train accuracy\")\n",
    "plt.plot(range(len(valid_acc)), valid_acc, label=\"valid accuracy\")\n",
    "plt.legend()\n",
    "plt.title(\"Accuracy\")\n",
    "plt.show()"
   ]
  },
  {
   "cell_type": "code",
   "execution_count": 24,
   "metadata": {},
   "outputs": [
    {
     "data": {
      "text/plain": [
       "'\\nYour Training loop and Plot the results\\n'"
      ]
     },
     "execution_count": 24,
     "metadata": {},
     "output_type": "execute_result"
    }
   ],
   "source": [
    "\"\"\"\"\n",
    "Earlystop setting\n",
    "\"\"\"\n",
    "from keras.callbacks import EarlyStopping\n",
    "\n",
    "earlystop = EarlyStopping(monitor=\"val_acc\", \n",
    "                          patience=25, \n",
    "                          verbose=1\n",
    "                          )\n",
    "\"\"\"\n",
    "Your Training loop and Plot the results\n",
    "\"\"\""
   ]
  },
  {
   "cell_type": "code",
   "execution_count": 25,
   "metadata": {},
   "outputs": [
    {
     "name": "stdout",
     "output_type": "stream",
     "text": [
      "_________________________________________________________________\n",
      "Layer (type)                 Output Shape              Param #   \n",
      "=================================================================\n",
      "input_8 (InputLayer)         (None, 3072)              0         \n",
      "_________________________________________________________________\n",
      "hidden_layer1 (Dense)        (None, 512)               1573376   \n",
      "_________________________________________________________________\n",
      "batch_normalization_22 (Batc (None, 512)               2048      \n",
      "_________________________________________________________________\n",
      "hidden_layer2 (Dense)        (None, 256)               131328    \n",
      "_________________________________________________________________\n",
      "batch_normalization_23 (Batc (None, 256)               1024      \n",
      "_________________________________________________________________\n",
      "hidden_layer3 (Dense)        (None, 128)               32896     \n",
      "_________________________________________________________________\n",
      "batch_normalization_24 (Batc (None, 128)               512       \n",
      "_________________________________________________________________\n",
      "output (Dense)               (None, 10)                1290      \n",
      "=================================================================\n",
      "Total params: 1,742,474\n",
      "Trainable params: 1,740,682\n",
      "Non-trainable params: 1,792\n",
      "_________________________________________________________________\n",
      "Train on 50000 samples, validate on 10000 samples\n",
      "Epoch 1/50\n",
      "50000/50000 [==============================] - 23s 468us/step - loss: 2.1919 - acc: 0.2714 - val_loss: 2.0746 - val_acc: 0.3255\n",
      "Epoch 2/50\n",
      "50000/50000 [==============================] - 21s 426us/step - loss: 1.7455 - acc: 0.3906 - val_loss: 1.7918 - val_acc: 0.3860\n",
      "Epoch 3/50\n",
      "50000/50000 [==============================] - 21s 422us/step - loss: 1.6201 - acc: 0.4342 - val_loss: 1.6939 - val_acc: 0.4123\n",
      "Epoch 4/50\n",
      "50000/50000 [==============================] - 21s 423us/step - loss: 1.5442 - acc: 0.4606 - val_loss: 1.6219 - val_acc: 0.4346\n",
      "Epoch 5/50\n",
      "50000/50000 [==============================] - 21s 424us/step - loss: 1.4878 - acc: 0.4792 - val_loss: 1.5976 - val_acc: 0.4398\n",
      "Epoch 6/50\n",
      "50000/50000 [==============================] - 21s 423us/step - loss: 1.4423 - acc: 0.4962 - val_loss: 1.5619 - val_acc: 0.4518\n",
      "Epoch 7/50\n",
      "50000/50000 [==============================] - 21s 426us/step - loss: 1.4009 - acc: 0.5123 - val_loss: 1.5480 - val_acc: 0.4536\n",
      "Epoch 8/50\n",
      "50000/50000 [==============================] - 22s 446us/step - loss: 1.3653 - acc: 0.5244 - val_loss: 1.5223 - val_acc: 0.4627\n",
      "Epoch 9/50\n",
      "50000/50000 [==============================] - 22s 434us/step - loss: 1.3331 - acc: 0.5367 - val_loss: 1.5158 - val_acc: 0.4626\n",
      "Epoch 10/50\n",
      "50000/50000 [==============================] - 21s 424us/step - loss: 1.3028 - acc: 0.5470 - val_loss: 1.4908 - val_acc: 0.4784\n",
      "Epoch 11/50\n",
      "50000/50000 [==============================] - 22s 435us/step - loss: 1.2729 - acc: 0.5587 - val_loss: 1.4909 - val_acc: 0.4755\n",
      "Epoch 12/50\n",
      "50000/50000 [==============================] - 21s 424us/step - loss: 1.2458 - acc: 0.5689 - val_loss: 1.4837 - val_acc: 0.4769\n",
      "Epoch 13/50\n",
      "50000/50000 [==============================] - 21s 425us/step - loss: 1.2198 - acc: 0.5771 - val_loss: 1.4762 - val_acc: 0.4778\n",
      "Epoch 14/50\n",
      "50000/50000 [==============================] - 22s 445us/step - loss: 1.1933 - acc: 0.5865 - val_loss: 1.4739 - val_acc: 0.4806\n",
      "Epoch 15/50\n",
      "50000/50000 [==============================] - 22s 446us/step - loss: 1.1687 - acc: 0.5973 - val_loss: 1.4550 - val_acc: 0.4877\n",
      "Epoch 16/50\n",
      "50000/50000 [==============================] - 21s 428us/step - loss: 1.1433 - acc: 0.6060 - val_loss: 1.4539 - val_acc: 0.4893\n",
      "Epoch 17/50\n",
      "50000/50000 [==============================] - 21s 428us/step - loss: 1.1195 - acc: 0.6161 - val_loss: 1.4519 - val_acc: 0.4932\n",
      "Epoch 18/50\n",
      "50000/50000 [==============================] - 21s 425us/step - loss: 1.0956 - acc: 0.6248 - val_loss: 1.4527 - val_acc: 0.4917\n",
      "Epoch 19/50\n",
      "50000/50000 [==============================] - 21s 429us/step - loss: 1.0745 - acc: 0.6326 - val_loss: 1.4491 - val_acc: 0.4971\n",
      "Epoch 20/50\n",
      "50000/50000 [==============================] - 21s 423us/step - loss: 1.0527 - acc: 0.6395 - val_loss: 1.4504 - val_acc: 0.4935\n",
      "Epoch 21/50\n",
      "50000/50000 [==============================] - 21s 425us/step - loss: 1.0271 - acc: 0.6506 - val_loss: 1.4601 - val_acc: 0.4911\n",
      "Epoch 22/50\n",
      "50000/50000 [==============================] - 21s 424us/step - loss: 1.0090 - acc: 0.6571 - val_loss: 1.4729 - val_acc: 0.4958\n",
      "Epoch 23/50\n",
      "50000/50000 [==============================] - 21s 424us/step - loss: 0.9869 - acc: 0.6651 - val_loss: 1.4468 - val_acc: 0.4949\n",
      "Epoch 24/50\n",
      "50000/50000 [==============================] - 21s 428us/step - loss: 0.9655 - acc: 0.6742 - val_loss: 1.4495 - val_acc: 0.4958\n",
      "Epoch 25/50\n",
      "50000/50000 [==============================] - 21s 430us/step - loss: 0.9441 - acc: 0.6830 - val_loss: 1.4634 - val_acc: 0.5002\n",
      "Epoch 26/50\n",
      "50000/50000 [==============================] - 21s 423us/step - loss: 0.9232 - acc: 0.6908 - val_loss: 1.4689 - val_acc: 0.4996\n",
      "Epoch 27/50\n",
      "50000/50000 [==============================] - 21s 424us/step - loss: 0.9035 - acc: 0.6982 - val_loss: 1.4582 - val_acc: 0.5002\n",
      "Epoch 28/50\n",
      "50000/50000 [==============================] - 21s 426us/step - loss: 0.8821 - acc: 0.7058 - val_loss: 1.4741 - val_acc: 0.4993\n",
      "Epoch 29/50\n",
      "50000/50000 [==============================] - 21s 426us/step - loss: 0.8633 - acc: 0.7138 - val_loss: 1.4695 - val_acc: 0.4979\n",
      "Epoch 30/50\n",
      "50000/50000 [==============================] - 21s 427us/step - loss: 0.8423 - acc: 0.7229 - val_loss: 1.4751 - val_acc: 0.5024\n",
      "Epoch 31/50\n",
      "50000/50000 [==============================] - 21s 427us/step - loss: 0.8222 - acc: 0.7301 - val_loss: 1.4830 - val_acc: 0.4973\n",
      "Epoch 32/50\n",
      "50000/50000 [==============================] - 21s 425us/step - loss: 0.8040 - acc: 0.7383 - val_loss: 1.4832 - val_acc: 0.5029\n",
      "Epoch 33/50\n",
      "50000/50000 [==============================] - 21s 425us/step - loss: 0.7820 - acc: 0.7472 - val_loss: 1.4961 - val_acc: 0.5021\n",
      "Epoch 34/50\n",
      "50000/50000 [==============================] - 21s 425us/step - loss: 0.7647 - acc: 0.7535 - val_loss: 1.4946 - val_acc: 0.5019\n",
      "Epoch 35/50\n",
      "50000/50000 [==============================] - 21s 429us/step - loss: 0.7464 - acc: 0.7611 - val_loss: 1.5329 - val_acc: 0.4931\n",
      "Epoch 36/50\n",
      "50000/50000 [==============================] - 21s 426us/step - loss: 0.7263 - acc: 0.7677 - val_loss: 1.5204 - val_acc: 0.5042\n",
      "Epoch 37/50\n",
      "50000/50000 [==============================] - 21s 425us/step - loss: 0.7076 - acc: 0.7755 - val_loss: 1.5251 - val_acc: 0.5005\n",
      "Epoch 38/50\n",
      "50000/50000 [==============================] - 21s 429us/step - loss: 0.6885 - acc: 0.7838 - val_loss: 1.5222 - val_acc: 0.5028\n",
      "Epoch 39/50\n",
      "50000/50000 [==============================] - 53s 1ms/step - loss: 0.6699 - acc: 0.7895 - val_loss: 1.5278 - val_acc: 0.4994\n",
      "Epoch 40/50\n",
      "50000/50000 [==============================] - 61s 1ms/step - loss: 0.6491 - acc: 0.7994 - val_loss: 1.5504 - val_acc: 0.5024\n",
      "Epoch 41/50\n",
      "50000/50000 [==============================] - 62s 1ms/step - loss: 0.6329 - acc: 0.8059 - val_loss: 1.5648 - val_acc: 0.5002\n",
      "Epoch 42/50\n",
      "50000/50000 [==============================] - 61s 1ms/step - loss: 0.6149 - acc: 0.8150 - val_loss: 1.5665 - val_acc: 0.4974\n",
      "Epoch 43/50\n",
      "50000/50000 [==============================] - 50s 994us/step - loss: 0.5975 - acc: 0.8216 - val_loss: 1.5899 - val_acc: 0.4964\n",
      "Epoch 44/50\n",
      "50000/50000 [==============================] - 18s 369us/step - loss: 0.5797 - acc: 0.8272 - val_loss: 1.6092 - val_acc: 0.4942\n",
      "Epoch 45/50\n",
      "50000/50000 [==============================] - 19s 372us/step - loss: 0.5651 - acc: 0.8341 - val_loss: 1.5993 - val_acc: 0.4945\n",
      "Epoch 46/50\n",
      "50000/50000 [==============================] - 18s 368us/step - loss: 0.5460 - acc: 0.8411 - val_loss: 1.6081 - val_acc: 0.4967\n",
      "Epoch 47/50\n",
      "50000/50000 [==============================] - 18s 367us/step - loss: 0.5290 - acc: 0.8469 - val_loss: 1.6465 - val_acc: 0.4913\n",
      "Epoch 48/50\n",
      "50000/50000 [==============================] - 18s 366us/step - loss: 0.5130 - acc: 0.8549 - val_loss: 1.6473 - val_acc: 0.4979\n",
      "Epoch 49/50\n"
     ]
    },
    {
     "name": "stdout",
     "output_type": "stream",
     "text": [
      "50000/50000 [==============================] - 18s 361us/step - loss: 0.4943 - acc: 0.8610 - val_loss: 1.6505 - val_acc: 0.4925\n",
      "Epoch 50/50\n",
      "50000/50000 [==============================] - 20s 394us/step - loss: 0.4805 - acc: 0.8669 - val_loss: 1.6634 - val_acc: 0.4873\n"
     ]
    }
   ],
   "source": [
    "earlystop = EarlyStopping(monitor=\"val_acc\", \n",
    "                          patience=25, \n",
    "                          verbose=1\n",
    "                          )\n",
    "model = build_mlp(input_shape=x_train.shape[1:])\n",
    "model.summary()\n",
    "optimizer = keras.optimizers.SGD(lr=LEARNING_RATE, nesterov=True, momentum=MOMENTUM)\n",
    "model.compile(loss=\"categorical_crossentropy\", metrics=[\"accuracy\"], optimizer=optimizer)\n",
    "\n",
    "model.fit(x_train, y_train, \n",
    "          epochs=EPOCHS, \n",
    "          batch_size=BATCH_SIZE, \n",
    "          validation_data=(x_test, y_test), \n",
    "          shuffle=True,\n",
    "          callbacks=[earlystop]\n",
    "         )\n",
    "\n",
    "# Collect results\n",
    "train_loss = model.history.history[\"loss\"]\n",
    "valid_loss = model.history.history[\"val_loss\"]\n",
    "train_acc = model.history.history[\"acc\"]\n",
    "valid_acc = model.history.history[\"val_acc\"]"
   ]
  },
  {
   "cell_type": "code",
   "execution_count": 26,
   "metadata": {},
   "outputs": [
    {
     "data": {
      "image/png": "[encoded data removed]",
      "text/plain": [
       "<Figure size 432x288 with 1 Axes>"
      ]
     },
     "metadata": {},
     "output_type": "display_data"
    },
    {
     "data": {
      "image/png": "[encoded data removed]",
      "text/plain": [
       "<Figure size 432x288 with 1 Axes>"
      ]
     },
     "metadata": {},
     "output_type": "display_data"
    }
   ],
   "source": [
    "import matplotlib.pyplot as plt\n",
    "%matplotlib inline\n",
    "\n",
    "plt.plot(range(len(train_loss)), train_loss, label=\"train loss\")\n",
    "plt.plot(range(len(valid_loss)), valid_loss, label=\"valid loss\")\n",
    "plt.legend()\n",
    "plt.title(\"Loss\")\n",
    "plt.show()\n",
    "\n",
    "plt.plot(range(len(train_acc)), train_acc, label=\"train accuracy\")\n",
    "plt.plot(range(len(valid_acc)), valid_acc, label=\"valid accuracy\")\n",
    "plt.legend()\n",
    "plt.title(\"Accuracy\")\n",
    "plt.show()"
   ]
  },
  {
   "cell_type": "code",
   "execution_count": null,
   "metadata": {},
   "outputs": [],
   "source": []
  }
 ],
 "metadata": {
  "kernelspec": {
   "display_name": "Python 3",
   "language": "python",
   "name": "python3"
  },
  "language_info": {
   "codemirror_mode": {
    "name": "ipython",
    "version": 3
   },
   "file_extension": ".py",
   "mimetype": "text/x-python",
   "name": "python",
   "nbconvert_exporter": "python",
   "pygments_lexer": "ipython3",
   "version": "3.6.5"
  }
 },
 "nbformat": 4,
 "nbformat_minor": 2
}
