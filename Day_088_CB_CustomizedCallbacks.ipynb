{
 "cells": [
  {
   "cell_type": "markdown",
   "metadata": {},
   "source": [
    "## Work\n",
    "1. 請嘗試寫一個 callback 用來記錄各類別在訓練過程中，對驗證集的 True Positive 與 True Negative"
   ]
  },
  {
   "cell_type": "code",
   "execution_count": 1,
   "metadata": {},
   "outputs": [
    {
     "name": "stderr",
     "output_type": "stream",
     "text": [
      "C:\\Users\\JL\\Anaconda3\\lib\\site-packages\\h5py\\__init__.py:36: FutureWarning: Conversion of the second argument of issubdtype from `float` to `np.floating` is deprecated. In future, it will be treated as `np.float64 == np.dtype(float).type`.\n",
      "  from ._conv import register_converters as _register_converters\n",
      "Using TensorFlow backend.\n"
     ]
    }
   ],
   "source": [
    "import os\n",
    "import keras\n",
    "\n",
    "# Disable GPU\n",
    "os.environ[\"CUDA_VISIBLE_DEVICES\"] = \"\""
   ]
  },
  {
   "cell_type": "code",
   "execution_count": 2,
   "metadata": {},
   "outputs": [],
   "source": [
    "train, test = keras.datasets.cifar10.load_data()"
   ]
  },
  {
   "cell_type": "code",
   "execution_count": 3,
   "metadata": {},
   "outputs": [],
   "source": [
    "## 資料前處理\n",
    "def preproc_x(x, flatten=True):\n",
    "    x = x / 255.\n",
    "    if flatten:\n",
    "        x = x.reshape((len(x), -1))\n",
    "    return x\n",
    "\n",
    "def preproc_y(y, num_classes=10):\n",
    "    if y.shape[-1] == 1:\n",
    "        y = keras.utils.to_categorical(y, num_classes)\n",
    "    return y    "
   ]
  },
  {
   "cell_type": "code",
   "execution_count": 4,
   "metadata": {},
   "outputs": [],
   "source": [
    "x_train, y_train = train\n",
    "x_test, y_test = test\n",
    "\n",
    "# Preproc the inputs\n",
    "x_train = preproc_x(x_train)\n",
    "x_test = preproc_x(x_test)\n",
    "\n",
    "# Preprc the outputs\n",
    "y_train = preproc_y(y_train)\n",
    "y_test = preproc_y(y_test)"
   ]
  },
  {
   "cell_type": "code",
   "execution_count": 6,
   "metadata": {},
   "outputs": [],
   "source": [
    "from keras.layers import BatchNormalization\n",
    "def build_mlp(input_shape, output_units=10, num_neurons=[256, 256, 256]):\n",
    "    \"\"\"\n",
    "    TO DO:\n",
    "    Build your own model\n",
    "    \"\"\"\n",
    "    input_layer = keras.layers.Input(input_shape)\n",
    "    \n",
    "    for i, n_units in enumerate(num_neurons):\n",
    "        if i == 0:\n",
    "            x = keras.layers.Dense(units=n_units, \n",
    "                                   activation=\"relu\", \n",
    "                                   name=\"hidden_layer\"+str(i+1))(input_layer)\n",
    "            x = BatchNormalization()(x)\n",
    "        else:\n",
    "            x = keras.layers.Dense(units=n_units, \n",
    "                                   activation=\"relu\", \n",
    "                                   name=\"hidden_layer\"+str(i+1))(x)\n",
    "            x = BatchNormalization()(x)\n",
    "    \n",
    "    out = keras.layers.Dense(units=output_units, activation=\"softmax\", name=\"output\")(x)\n",
    "    \n",
    "    model = keras.models.Model(inputs=[input_layer], outputs=[out])\n",
    "    return model"
   ]
  },
  {
   "cell_type": "code",
   "execution_count": 24,
   "metadata": {},
   "outputs": [],
   "source": [
    "## 超參數設定\n",
    "LEARNING_RATE = 1e-3\n",
    "EPOCHS = 25\n",
    "BATCH_SIZE = 2048\n",
    "MOMENTUM = 0.95"
   ]
  },
  {
   "cell_type": "code",
   "execution_count": 25,
   "metadata": {},
   "outputs": [],
   "source": [
    "# 載入 Callbacks\n",
    "from keras.callbacks import Callback\n",
    "from sklearn.metrics import recall_score\n",
    "\n",
    "# Record_fp_tp\n",
    "class Record_tp_tn(Callback):\n",
    "    \"\"\"Define a callback function to collect tp/tn, named Record_fp_tp.\n",
    "    \"\"\"\n",
    "    def on_train_begin(self, epoch, logs = {}):\n",
    "        logs = logs or {}\n",
    "        record_items = [\"val_auc\", \"val_f1sc\", \"val_fp\", \"val_fn\", \"val_tp\", \"val_tn\"]\n",
    "        for i in record_items:\n",
    "            if i not in self.params['metrics']:\n",
    "                self.params['metrics'].append(i)\n",
    "    \n",
    "    def on_epoch_end(self, epoch, logs = {}, thres=0.5):\n",
    "        logs = logs or {}\n",
    "        y_true = self.validation_data[1].argmax(axis = 1)\n",
    "        y_pred = self.model.predict(self.validation_data[0])\n",
    "        y_pred_p = (y_pred[:, 1] >= thres) * 1\n",
    "        y_pred_n = (y_pred[:, 1] < thres) * 1\n",
    "        # True positive rate, Recall, Sensitivity \n",
    "        logs['val_tp'] = recall_score(y_true, y_pred_p, average='weighted')\n",
    "        logs['val_tn'] = recall_score(y_true, y_pred_n, average='weighted')\n",
    "                \n",
    "rec_tptn = Record_tp_tn()"
   ]
  },
  {
   "cell_type": "code",
   "execution_count": 26,
   "metadata": {
    "scrolled": true
   },
   "outputs": [
    {
     "name": "stdout",
     "output_type": "stream",
     "text": [
      "_________________________________________________________________\n",
      "Layer (type)                 Output Shape              Param #   \n",
      "=================================================================\n",
      "input_7 (InputLayer)         (None, 3072)              0         \n",
      "_________________________________________________________________\n",
      "hidden_layer1 (Dense)        (None, 256)               786688    \n",
      "_________________________________________________________________\n",
      "batch_normalization_19 (Batc (None, 256)               1024      \n",
      "_________________________________________________________________\n",
      "hidden_layer2 (Dense)        (None, 256)               65792     \n",
      "_________________________________________________________________\n",
      "batch_normalization_20 (Batc (None, 256)               1024      \n",
      "_________________________________________________________________\n",
      "hidden_layer3 (Dense)        (None, 256)               65792     \n",
      "_________________________________________________________________\n",
      "batch_normalization_21 (Batc (None, 256)               1024      \n",
      "_________________________________________________________________\n",
      "output (Dense)               (None, 10)                2570      \n",
      "=================================================================\n",
      "Total params: 923,914\n",
      "Trainable params: 922,378\n",
      "Non-trainable params: 1,536\n",
      "_________________________________________________________________\n",
      "Train on 50000 samples, validate on 10000 samples\n",
      "Epoch 1/25\n",
      "50000/50000 [==============================] - 14s 273us/step - loss: 2.4891 - acc: 0.2122 - val_loss: 2.5664 - val_acc: 0.2564\n",
      "Epoch 2/25\n",
      "50000/50000 [==============================] - 12s 241us/step - loss: 1.9704 - acc: 0.3293 - val_loss: 2.0747 - val_acc: 0.3269\n",
      "Epoch 3/25\n",
      "50000/50000 [==============================] - 12s 238us/step - loss: 1.7915 - acc: 0.3806 - val_loss: 1.9223 - val_acc: 0.3615\n",
      "Epoch 4/25\n",
      "50000/50000 [==============================] - 12s 248us/step - loss: 1.6945 - acc: 0.4087 - val_loss: 1.7995 - val_acc: 0.3827\n",
      "Epoch 5/25\n",
      "50000/50000 [==============================] - 13s 260us/step - loss: 1.6298 - acc: 0.4293 - val_loss: 1.7156 - val_acc: 0.4065\n",
      "Epoch 6/25\n",
      "50000/50000 [==============================] - 13s 270us/step - loss: 1.5829 - acc: 0.4445 - val_loss: 1.6804 - val_acc: 0.4193\n",
      "Epoch 7/25\n",
      "50000/50000 [==============================] - 13s 255us/step - loss: 1.5442 - acc: 0.4575 - val_loss: 1.6502 - val_acc: 0.4237\n",
      "Epoch 8/25\n",
      "50000/50000 [==============================] - 12s 249us/step - loss: 1.5109 - acc: 0.4697 - val_loss: 1.6262 - val_acc: 0.4304\n",
      "Epoch 9/25\n",
      "50000/50000 [==============================] - 15s 303us/step - loss: 1.4806 - acc: 0.4803 - val_loss: 1.6021 - val_acc: 0.4420\n",
      "Epoch 10/25\n",
      "50000/50000 [==============================] - 17s 347us/step - loss: 1.4542 - acc: 0.4893 - val_loss: 1.5875 - val_acc: 0.4425\n",
      "Epoch 11/25\n",
      "50000/50000 [==============================] - 15s 297us/step - loss: 1.4313 - acc: 0.4967 - val_loss: 1.5714 - val_acc: 0.4510\n",
      "Epoch 12/25\n",
      "50000/50000 [==============================] - 13s 266us/step - loss: 1.4109 - acc: 0.5046 - val_loss: 1.5622 - val_acc: 0.4491\n",
      "Epoch 13/25\n",
      "50000/50000 [==============================] - 13s 254us/step - loss: 1.3898 - acc: 0.5134 - val_loss: 1.5447 - val_acc: 0.4614\n",
      "Epoch 14/25\n",
      "50000/50000 [==============================] - 13s 251us/step - loss: 1.3720 - acc: 0.5192 - val_loss: 1.5406 - val_acc: 0.4591\n",
      "Epoch 15/25\n",
      "50000/50000 [==============================] - 13s 251us/step - loss: 1.3531 - acc: 0.5269 - val_loss: 1.5320 - val_acc: 0.4617\n",
      "Epoch 16/25\n",
      "50000/50000 [==============================] - 12s 247us/step - loss: 1.3362 - acc: 0.5345 - val_loss: 1.5200 - val_acc: 0.4659\n",
      "Epoch 17/25\n",
      "50000/50000 [==============================] - 14s 271us/step - loss: 1.3201 - acc: 0.5380 - val_loss: 1.5132 - val_acc: 0.4722\n",
      "Epoch 18/25\n",
      "50000/50000 [==============================] - 13s 254us/step - loss: 1.3044 - acc: 0.5450 - val_loss: 1.5103 - val_acc: 0.4706\n",
      "Epoch 19/25\n",
      "50000/50000 [==============================] - 13s 263us/step - loss: 1.2898 - acc: 0.5511 - val_loss: 1.5062 - val_acc: 0.4725\n",
      "Epoch 20/25\n",
      "50000/50000 [==============================] - 13s 257us/step - loss: 1.2764 - acc: 0.5548 - val_loss: 1.4956 - val_acc: 0.4760\n",
      "Epoch 21/25\n",
      "50000/50000 [==============================] - 13s 250us/step - loss: 1.2616 - acc: 0.5601 - val_loss: 1.4958 - val_acc: 0.4728\n",
      "Epoch 22/25\n",
      "50000/50000 [==============================] - 12s 249us/step - loss: 1.2486 - acc: 0.5657 - val_loss: 1.4917 - val_acc: 0.4759\n",
      "Epoch 23/25\n",
      "50000/50000 [==============================] - 12s 249us/step - loss: 1.2354 - acc: 0.5713 - val_loss: 1.4886 - val_acc: 0.4779\n",
      "Epoch 24/25\n",
      "50000/50000 [==============================] - 12s 250us/step - loss: 1.2227 - acc: 0.5753 - val_loss: 1.4841 - val_acc: 0.4765\n",
      "Epoch 25/25\n",
      "50000/50000 [==============================] - 12s 248us/step - loss: 1.2101 - acc: 0.5797 - val_loss: 1.4806 - val_acc: 0.4821\n"
     ]
    }
   ],
   "source": [
    "model = build_mlp(input_shape=x_train.shape[1:])\n",
    "model.summary()\n",
    "optimizer = keras.optimizers.SGD(lr=LEARNING_RATE, nesterov=True, momentum=MOMENTUM)\n",
    "model.compile(loss=\"categorical_crossentropy\", metrics=[\"accuracy\"], optimizer=optimizer)\n",
    "\n",
    "\"\"\"\n",
    "To do:\n",
    "Fit the model with rec_tptn callback_fn\n",
    "\"\"\"\n",
    "model.fit(x_train, y_train, \n",
    "          epochs=EPOCHS, \n",
    "          batch_size=BATCH_SIZE, \n",
    "          validation_data=(x_test, y_test), \n",
    "          shuffle=True,\n",
    "          callbacks=[rec_tptn]\n",
    "         )\n",
    "\n",
    "# Collect results\n",
    "train_loss = model.history.history[\"loss\"]\n",
    "valid_loss = model.history.history[\"val_loss\"]\n",
    "train_acc = model.history.history[\"acc\"]\n",
    "valid_acc = model.history.history[\"val_acc\"]\n",
    "\n",
    "\"\"\"\n",
    "To do:\n",
    "Collect tp/tn from model history\n",
    "\"\"\"\n",
    "valid_tp = model.history.history['val_tp']\n",
    "valid_tn = model.history.history['val_tn']"
   ]
  },
  {
   "cell_type": "code",
   "execution_count": 27,
   "metadata": {},
   "outputs": [
    {
     "data": {
      "image/png": "[encoded data removed]",
      "text/plain": [
       "<Figure size 432x288 with 1 Axes>"
      ]
     },
     "metadata": {},
     "output_type": "display_data"
    },
    {
     "data": {
      "image/png": "[encoded data removed]",
      "text/plain": [
       "<Figure size 432x288 with 1 Axes>"
      ]
     },
     "metadata": {},
     "output_type": "display_data"
    },
    {
     "data": {
      "image/png": "[encoded data removed]",
      "text/plain": [
       "<Figure size 432x288 with 1 Axes>"
      ]
     },
     "metadata": {},
     "output_type": "display_data"
    }
   ],
   "source": [
    "import matplotlib.pyplot as plt\n",
    "%matplotlib inline\n",
    "\n",
    "plt.plot(range(len(train_loss)), train_loss, label=\"train loss\")\n",
    "plt.plot(range(len(valid_loss)), valid_loss, label=\"valid loss\")\n",
    "plt.legend()\n",
    "plt.title(\"Loss\")\n",
    "plt.show()\n",
    "\n",
    "plt.plot(range(len(train_acc)), train_acc, label=\"train accuracy\")\n",
    "plt.plot(range(len(valid_acc)), valid_acc, label=\"valid accuracy\")\n",
    "plt.legend()\n",
    "plt.title(\"Accuracy\")\n",
    "plt.show()\n",
    "\n",
    "plt.plot(range(len(valid_tp)), valid_tp, label=\"valid tp\", color=\"navy\")\n",
    "plt.plot(range(len(valid_tn)), valid_tn, label=\"valid tn\", color=\"red\")\n",
    "plt.legend()\n",
    "plt.title(\"True positives and True Negatives\")\n",
    "plt.show()\n"
   ]
  },
  {
   "cell_type": "code",
   "execution_count": null,
   "metadata": {},
   "outputs": [],
   "source": []
  }
 ],
 "metadata": {
  "kernelspec": {
   "display_name": "Python 3",
   "language": "python",
   "name": "python3"
  },
  "language_info": {
   "codemirror_mode": {
    "name": "ipython",
    "version": 3
   },
   "file_extension": ".py",
   "mimetype": "text/x-python",
   "name": "python",
   "nbconvert_exporter": "python",
   "pygments_lexer": "ipython3",
   "version": "3.6.5"
  }
 },
 "nbformat": 4,
 "nbformat_minor": 2
}
